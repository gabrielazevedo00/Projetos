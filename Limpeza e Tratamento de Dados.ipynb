{
 "cells": [
  {
   "cell_type": "code",
   "execution_count": 1,
   "id": "af3b2403-d167-4a24-b3cd-0c92a92992c2",
   "metadata": {},
   "outputs": [],
   "source": [
    "# Importando bibliotecas\n",
    "import pandas as pd\n",
    "import numpy as np\n",
    "\n",
    "import chardet\n",
    "import sweetviz as sv"
   ]
  },
  {
   "cell_type": "code",
   "execution_count": 2,
   "id": "c8476f00-1264-4a32-87cd-1da893d2c9b9",
   "metadata": {},
   "outputs": [
    {
     "name": "stdout",
     "output_type": "stream",
     "text": [
      "{'encoding': 'Windows-1252', 'confidence': 0.73, 'language': ''}\n"
     ]
    }
   ],
   "source": [
    "# Verificar qual o encoding do arquivo\n",
    "with open(\"ks-projects-201612.csv\", 'rb') as rawdata:\n",
    "    result = chardet.detect(rawdata.read(10000))\n",
    "    \n",
    "print(result)"
   ]
  },
  {
   "cell_type": "code",
   "execution_count": 3,
   "id": "3d1440f3-d801-42e5-a4ad-365fdeff3237",
   "metadata": {},
   "outputs": [
    {
     "data": {
      "text/html": [
       "<div>\n",
       "<style scoped>\n",
       "    .dataframe tbody tr th:only-of-type {\n",
       "        vertical-align: middle;\n",
       "    }\n",
       "\n",
       "    .dataframe tbody tr th {\n",
       "        vertical-align: top;\n",
       "    }\n",
       "\n",
       "    .dataframe thead th {\n",
       "        text-align: right;\n",
       "    }\n",
       "</style>\n",
       "<table border=\"1\" class=\"dataframe\">\n",
       "  <thead>\n",
       "    <tr style=\"text-align: right;\">\n",
       "      <th></th>\n",
       "      <th>name</th>\n",
       "      <th>category</th>\n",
       "      <th>main_category</th>\n",
       "      <th>currency</th>\n",
       "      <th>deadline</th>\n",
       "      <th>goal</th>\n",
       "      <th>launched</th>\n",
       "      <th>pledged</th>\n",
       "      <th>state</th>\n",
       "      <th>backers</th>\n",
       "      <th>country</th>\n",
       "      <th>usd pledged</th>\n",
       "    </tr>\n",
       "  </thead>\n",
       "  <tbody>\n",
       "    <tr>\n",
       "      <th>0</th>\n",
       "      <td>The Songs of Adelaide &amp; Abullah</td>\n",
       "      <td>Poetry</td>\n",
       "      <td>Publishing</td>\n",
       "      <td>GBP</td>\n",
       "      <td>2015-10-09 11:36:00</td>\n",
       "      <td>1000</td>\n",
       "      <td>2015-08-11 12:12:28</td>\n",
       "      <td>0</td>\n",
       "      <td>failed</td>\n",
       "      <td>0</td>\n",
       "      <td>GB</td>\n",
       "      <td>0</td>\n",
       "    </tr>\n",
       "    <tr>\n",
       "      <th>1</th>\n",
       "      <td>Where is Hank?</td>\n",
       "      <td>Narrative Film</td>\n",
       "      <td>Film &amp; Video</td>\n",
       "      <td>USD</td>\n",
       "      <td>2013-02-26 00:20:50</td>\n",
       "      <td>45000</td>\n",
       "      <td>2013-01-12 00:20:50</td>\n",
       "      <td>220</td>\n",
       "      <td>failed</td>\n",
       "      <td>3</td>\n",
       "      <td>US</td>\n",
       "      <td>220</td>\n",
       "    </tr>\n",
       "    <tr>\n",
       "      <th>2</th>\n",
       "      <td>ToshiCapital Rekordz Needs Help to Complete Album</td>\n",
       "      <td>Music</td>\n",
       "      <td>Music</td>\n",
       "      <td>USD</td>\n",
       "      <td>2012-04-16 04:24:11</td>\n",
       "      <td>5000</td>\n",
       "      <td>2012-03-17 03:24:11</td>\n",
       "      <td>1</td>\n",
       "      <td>failed</td>\n",
       "      <td>1</td>\n",
       "      <td>US</td>\n",
       "      <td>1</td>\n",
       "    </tr>\n",
       "    <tr>\n",
       "      <th>3</th>\n",
       "      <td>Community Film Project: The Art of Neighborhoo...</td>\n",
       "      <td>Film &amp; Video</td>\n",
       "      <td>Film &amp; Video</td>\n",
       "      <td>USD</td>\n",
       "      <td>2015-08-29 01:00:00</td>\n",
       "      <td>19500</td>\n",
       "      <td>2015-07-04 08:35:03</td>\n",
       "      <td>1283</td>\n",
       "      <td>canceled</td>\n",
       "      <td>14</td>\n",
       "      <td>US</td>\n",
       "      <td>1283</td>\n",
       "    </tr>\n",
       "    <tr>\n",
       "      <th>4</th>\n",
       "      <td>Monarch Espresso Bar</td>\n",
       "      <td>Restaurants</td>\n",
       "      <td>Food</td>\n",
       "      <td>USD</td>\n",
       "      <td>2016-04-01 13:38:27</td>\n",
       "      <td>50000</td>\n",
       "      <td>2016-02-26 13:38:27</td>\n",
       "      <td>52375</td>\n",
       "      <td>successful</td>\n",
       "      <td>224</td>\n",
       "      <td>US</td>\n",
       "      <td>52375</td>\n",
       "    </tr>\n",
       "  </tbody>\n",
       "</table>\n",
       "</div>"
      ],
      "text/plain": [
       "                                               name        category   \\\n",
       "0                    The Songs of Adelaide & Abullah          Poetry   \n",
       "1                                     Where is Hank?  Narrative Film   \n",
       "2  ToshiCapital Rekordz Needs Help to Complete Album           Music   \n",
       "3  Community Film Project: The Art of Neighborhoo...    Film & Video   \n",
       "4                               Monarch Espresso Bar     Restaurants   \n",
       "\n",
       "  main_category  currency             deadline   goal             launched   \\\n",
       "0     Publishing       GBP  2015-10-09 11:36:00   1000  2015-08-11 12:12:28   \n",
       "1   Film & Video       USD  2013-02-26 00:20:50  45000  2013-01-12 00:20:50   \n",
       "2          Music       USD  2012-04-16 04:24:11   5000  2012-03-17 03:24:11   \n",
       "3   Film & Video       USD  2015-08-29 01:00:00  19500  2015-07-04 08:35:03   \n",
       "4           Food       USD  2016-04-01 13:38:27  50000  2016-02-26 13:38:27   \n",
       "\n",
       "  pledged       state  backers  country  usd pledged   \n",
       "0        0      failed        0       GB            0  \n",
       "1      220      failed        3       US          220  \n",
       "2        1      failed        1       US            1  \n",
       "3     1283    canceled       14       US         1283  \n",
       "4    52375  successful      224       US        52375  "
      ]
     },
     "execution_count": 3,
     "metadata": {},
     "output_type": "execute_result"
    }
   ],
   "source": [
    "# Lendo o arquivo e selecionando as colunas\n",
    "df = pd.read_csv(\"ks-projects-201612.csv\", encoding='Windows-1252', usecols=[1,2,3,4,5,6,7,8,9,10,11,12])\n",
    "\n",
    "df.head()"
   ]
  },
  {
   "cell_type": "code",
   "execution_count": 4,
   "id": "daa676d8-6dcb-423c-94ed-92f55c211c7a",
   "metadata": {},
   "outputs": [
    {
     "data": {
      "application/vnd.jupyter.widget-view+json": {
       "model_id": "94cf82b797b14a1a809b8f21dceae9df",
       "version_major": 2,
       "version_minor": 0
      },
      "text/plain": [
       "                                             |          | [  0%]   00:00 -> (? left)"
      ]
     },
     "metadata": {},
     "output_type": "display_data"
    },
    {
     "name": "stdout",
     "output_type": "stream",
     "text": [
      "Report SWEETVIZ_REPORT.html was generated! NOTEBOOK/COLAB USERS: the web browser MAY not pop up, regardless, the report IS saved in your notebook/colab files.\n"
     ]
    }
   ],
   "source": [
    "# Relatorio Geral\n",
    "my_report = sv.analyze(df)\n",
    "my_report.show_html()"
   ]
  },
  {
   "cell_type": "code",
   "execution_count": 5,
   "id": "9a3806bf-4713-4970-9a06-fdcef9f32f7d",
   "metadata": {},
   "outputs": [],
   "source": [
    "# Tirando o espaço no nome das colunas\n",
    "df.columns = map(str.strip, df.columns)"
   ]
  },
  {
   "cell_type": "code",
   "execution_count": 6,
   "id": "2a188fe9-9212-4b4a-935b-f744033800f4",
   "metadata": {},
   "outputs": [
    {
     "data": {
      "text/plain": [
       "Index(['name', 'category', 'main_category', 'currency', 'deadline', 'goal',\n",
       "       'launched', 'pledged', 'state', 'backers', 'country', 'usd pledged'],\n",
       "      dtype='object')"
      ]
     },
     "execution_count": 6,
     "metadata": {},
     "output_type": "execute_result"
    }
   ],
   "source": [
    "# Verificando o nome das colunas\n",
    "df.columns"
   ]
  },
  {
   "cell_type": "code",
   "execution_count": 7,
   "id": "56c24422-c8c6-490b-82ab-ef0c315cdf9e",
   "metadata": {},
   "outputs": [
    {
     "name": "stdout",
     "output_type": "stream",
     "text": [
      "<class 'pandas.core.frame.DataFrame'>\n",
      "RangeIndex: 323750 entries, 0 to 323749\n",
      "Data columns (total 12 columns):\n",
      " #   Column         Non-Null Count   Dtype \n",
      "---  ------         --------------   ----- \n",
      " 0   name           323746 non-null  object\n",
      " 1   category       323745 non-null  object\n",
      " 2   main_category  323750 non-null  object\n",
      " 3   currency       323750 non-null  object\n",
      " 4   deadline       323750 non-null  object\n",
      " 5   goal           323750 non-null  object\n",
      " 6   launched       323750 non-null  object\n",
      " 7   pledged        323750 non-null  object\n",
      " 8   state          323750 non-null  object\n",
      " 9   backers        323750 non-null  object\n",
      " 10  country        323750 non-null  object\n",
      " 11  usd pledged    319960 non-null  object\n",
      "dtypes: object(12)\n",
      "memory usage: 29.6+ MB\n"
     ]
    }
   ],
   "source": [
    "# Verificando o typo\n",
    "df.info()"
   ]
  },
  {
   "cell_type": "code",
   "execution_count": 8,
   "id": "9da5f47d-423a-48fe-8356-48157870a724",
   "metadata": {},
   "outputs": [
    {
     "data": {
      "text/plain": [
       "0"
      ]
     },
     "execution_count": 8,
     "metadata": {},
     "output_type": "execute_result"
    }
   ],
   "source": [
    "# Valores duplicados\n",
    "df.duplicated().sum()"
   ]
  },
  {
   "cell_type": "code",
   "execution_count": 9,
   "id": "fdbbf337-a346-4a53-ad09-36bee400aa16",
   "metadata": {},
   "outputs": [
    {
     "data": {
      "text/plain": [
       "name                4\n",
       "category            5\n",
       "main_category       0\n",
       "currency            0\n",
       "deadline            0\n",
       "goal                0\n",
       "launched            0\n",
       "pledged             0\n",
       "state               0\n",
       "backers             0\n",
       "country             0\n",
       "usd pledged      3790\n",
       "dtype: int64"
      ]
     },
     "execution_count": 9,
     "metadata": {},
     "output_type": "execute_result"
    }
   ],
   "source": [
    "# Verificando valores valores missing\n",
    "df.isna().sum()"
   ]
  },
  {
   "cell_type": "code",
   "execution_count": 10,
   "id": "739d5643-3901-4895-b29b-ba8bdaeb7980",
   "metadata": {},
   "outputs": [
    {
     "data": {
      "text/plain": [
       "0.09778635778635777"
      ]
     },
     "execution_count": 10,
     "metadata": {},
     "output_type": "execute_result"
    }
   ],
   "source": [
    "# Porcentagem total de valores missing\n",
    "missing_values_count = df.isnull().sum()\n",
    "total_cells = np.product(df.shape)\n",
    "total_missing = missing_values_count.sum()\n",
    "\n",
    "(total_missing/total_cells)*100"
   ]
  },
  {
   "cell_type": "code",
   "execution_count": 11,
   "id": "2d6da85f-bbbd-41cd-a874-de8c645c0cec",
   "metadata": {},
   "outputs": [
    {
     "data": {
      "text/html": [
       "<div>\n",
       "<style scoped>\n",
       "    .dataframe tbody tr th:only-of-type {\n",
       "        vertical-align: middle;\n",
       "    }\n",
       "\n",
       "    .dataframe tbody tr th {\n",
       "        vertical-align: top;\n",
       "    }\n",
       "\n",
       "    .dataframe thead th {\n",
       "        text-align: right;\n",
       "    }\n",
       "</style>\n",
       "<table border=\"1\" class=\"dataframe\">\n",
       "  <thead>\n",
       "    <tr style=\"text-align: right;\">\n",
       "      <th></th>\n",
       "      <th>name</th>\n",
       "      <th>category</th>\n",
       "      <th>main_category</th>\n",
       "      <th>currency</th>\n",
       "      <th>deadline</th>\n",
       "      <th>goal</th>\n",
       "      <th>launched</th>\n",
       "      <th>pledged</th>\n",
       "      <th>state</th>\n",
       "      <th>backers</th>\n",
       "      <th>country</th>\n",
       "      <th>usd pledged</th>\n",
       "    </tr>\n",
       "  </thead>\n",
       "  <tbody>\n",
       "    <tr>\n",
       "      <th>142830</th>\n",
       "      <td>NaN</td>\n",
       "      <td>Narrative Film</td>\n",
       "      <td>Film &amp; Video</td>\n",
       "      <td>USD</td>\n",
       "      <td>2012-02-29 15:04:00</td>\n",
       "      <td>200000</td>\n",
       "      <td>2012-01-01 12:35:31</td>\n",
       "      <td>100</td>\n",
       "      <td>failed</td>\n",
       "      <td>1</td>\n",
       "      <td>US</td>\n",
       "      <td>100</td>\n",
       "    </tr>\n",
       "    <tr>\n",
       "      <th>262901</th>\n",
       "      <td>NaN</td>\n",
       "      <td>Video Games</td>\n",
       "      <td>Games</td>\n",
       "      <td>GBP</td>\n",
       "      <td>2013-01-06 23:00:00</td>\n",
       "      <td>2000</td>\n",
       "      <td>2012-12-19 23:57:48</td>\n",
       "      <td>196</td>\n",
       "      <td>failed</td>\n",
       "      <td>12</td>\n",
       "      <td>GB</td>\n",
       "      <td>317.7284362</td>\n",
       "    </tr>\n",
       "    <tr>\n",
       "      <th>265251</th>\n",
       "      <td>NaN</td>\n",
       "      <td>Product Design</td>\n",
       "      <td>Design</td>\n",
       "      <td>USD</td>\n",
       "      <td>2016-07-18 05:01:47</td>\n",
       "      <td>2500</td>\n",
       "      <td>2016-06-18 05:01:47</td>\n",
       "      <td>0</td>\n",
       "      <td>suspended</td>\n",
       "      <td>0</td>\n",
       "      <td>US</td>\n",
       "      <td>0</td>\n",
       "    </tr>\n",
       "    <tr>\n",
       "      <th>289847</th>\n",
       "      <td>NaN</td>\n",
       "      <td>Painting</td>\n",
       "      <td>Art</td>\n",
       "      <td>USD</td>\n",
       "      <td>2011-12-05 05:59:00</td>\n",
       "      <td>35000</td>\n",
       "      <td>2011-11-06 23:55:55</td>\n",
       "      <td>220</td>\n",
       "      <td>failed</td>\n",
       "      <td>5</td>\n",
       "      <td>US</td>\n",
       "      <td>220</td>\n",
       "    </tr>\n",
       "  </tbody>\n",
       "</table>\n",
       "</div>"
      ],
      "text/plain": [
       "       name        category main_category currency             deadline  \\\n",
       "142830  NaN  Narrative Film  Film & Video      USD  2012-02-29 15:04:00   \n",
       "262901  NaN     Video Games         Games      GBP  2013-01-06 23:00:00   \n",
       "265251  NaN  Product Design        Design      USD  2016-07-18 05:01:47   \n",
       "289847  NaN        Painting           Art      USD  2011-12-05 05:59:00   \n",
       "\n",
       "          goal             launched pledged      state backers country  \\\n",
       "142830  200000  2012-01-01 12:35:31     100     failed       1      US   \n",
       "262901    2000  2012-12-19 23:57:48     196     failed      12      GB   \n",
       "265251    2500  2016-06-18 05:01:47       0  suspended       0      US   \n",
       "289847   35000  2011-11-06 23:55:55     220     failed       5      US   \n",
       "\n",
       "        usd pledged  \n",
       "142830          100  \n",
       "262901  317.7284362  \n",
       "265251            0  \n",
       "289847          220  "
      ]
     },
     "execution_count": 11,
     "metadata": {},
     "output_type": "execute_result"
    }
   ],
   "source": [
    "# Visualizando valores missing\n",
    "df.loc[df['name'].isna()]"
   ]
  },
  {
   "cell_type": "code",
   "execution_count": 12,
   "id": "05bc6666-d04d-473c-b031-83e83b83f80b",
   "metadata": {},
   "outputs": [],
   "source": [
    "# Deletando valores missing\n",
    "df['name'].dropna(inplace=True)"
   ]
  },
  {
   "cell_type": "code",
   "execution_count": 13,
   "id": "0cb2d796-11d3-440f-a03c-b67c2aae3c72",
   "metadata": {},
   "outputs": [
    {
     "data": {
      "text/plain": [
       "0"
      ]
     },
     "execution_count": 13,
     "metadata": {},
     "output_type": "execute_result"
    }
   ],
   "source": [
    "# Verificando valores missing\n",
    "df['name'].isna().sum()"
   ]
  },
  {
   "cell_type": "code",
   "execution_count": 14,
   "id": "213d8c99-93f5-4716-aadd-2347905df616",
   "metadata": {},
   "outputs": [
    {
     "data": {
      "text/html": [
       "<div>\n",
       "<style scoped>\n",
       "    .dataframe tbody tr th:only-of-type {\n",
       "        vertical-align: middle;\n",
       "    }\n",
       "\n",
       "    .dataframe tbody tr th {\n",
       "        vertical-align: top;\n",
       "    }\n",
       "\n",
       "    .dataframe thead th {\n",
       "        text-align: right;\n",
       "    }\n",
       "</style>\n",
       "<table border=\"1\" class=\"dataframe\">\n",
       "  <thead>\n",
       "    <tr style=\"text-align: right;\">\n",
       "      <th></th>\n",
       "      <th>name</th>\n",
       "      <th>category</th>\n",
       "      <th>main_category</th>\n",
       "      <th>currency</th>\n",
       "      <th>deadline</th>\n",
       "      <th>goal</th>\n",
       "      <th>launched</th>\n",
       "      <th>pledged</th>\n",
       "      <th>state</th>\n",
       "      <th>backers</th>\n",
       "      <th>country</th>\n",
       "      <th>usd pledged</th>\n",
       "    </tr>\n",
       "  </thead>\n",
       "  <tbody>\n",
       "    <tr>\n",
       "      <th>36671</th>\n",
       "      <td>I am Rupert</td>\n",
       "      <td>NaN</td>\n",
       "      <td>Webseries</td>\n",
       "      <td>Film &amp; Video</td>\n",
       "      <td>GBP</td>\n",
       "      <td>2014-05-16 22:25:57</td>\n",
       "      <td>2000</td>\n",
       "      <td>2014-03-27 21:25:57</td>\n",
       "      <td>5</td>\n",
       "      <td>failed</td>\n",
       "      <td>1</td>\n",
       "      <td>GB</td>\n",
       "    </tr>\n",
       "    <tr>\n",
       "      <th>41069</th>\n",
       "      <td>BlanketPals TM</td>\n",
       "      <td>NaN</td>\n",
       "      <td>Interactive Design</td>\n",
       "      <td>Design</td>\n",
       "      <td>USD</td>\n",
       "      <td>2015-03-25 20:51:48</td>\n",
       "      <td>9750</td>\n",
       "      <td>2015-02-23 21:51:48</td>\n",
       "      <td>10890.45</td>\n",
       "      <td>successful</td>\n",
       "      <td>107</td>\n",
       "      <td>US</td>\n",
       "    </tr>\n",
       "    <tr>\n",
       "      <th>63544</th>\n",
       "      <td>{string&amp;&amp;loop} Knitting Craft with Code</td>\n",
       "      <td>NaN</td>\n",
       "      <td>Apparel</td>\n",
       "      <td>Fashion</td>\n",
       "      <td>USD</td>\n",
       "      <td>2016-05-28 00:00:00</td>\n",
       "      <td>1800</td>\n",
       "      <td>2016-04-29 21:04:40</td>\n",
       "      <td>2308</td>\n",
       "      <td>successful</td>\n",
       "      <td>119</td>\n",
       "      <td>US</td>\n",
       "    </tr>\n",
       "    <tr>\n",
       "      <th>96753</th>\n",
       "      <td>American Pin-up Revisitedd</td>\n",
       "      <td>NaN</td>\n",
       "      <td>Art</td>\n",
       "      <td>Art</td>\n",
       "      <td>USD</td>\n",
       "      <td>2014-04-03 17:52:09</td>\n",
       "      <td>7500</td>\n",
       "      <td>2014-03-04 17:52:09</td>\n",
       "      <td>100</td>\n",
       "      <td>failed</td>\n",
       "      <td>1</td>\n",
       "      <td>US</td>\n",
       "    </tr>\n",
       "    <tr>\n",
       "      <th>269930</th>\n",
       "      <td>Uplift: The Wearable iPhone Case with Zipline&amp;...</td>\n",
       "      <td>NaN</td>\n",
       "      <td>Design</td>\n",
       "      <td>Design</td>\n",
       "      <td>USD</td>\n",
       "      <td>2011-04-04 20:08:17</td>\n",
       "      <td>50000</td>\n",
       "      <td>2011-03-05 20:08:17</td>\n",
       "      <td>1665</td>\n",
       "      <td>canceled</td>\n",
       "      <td>10</td>\n",
       "      <td>US</td>\n",
       "    </tr>\n",
       "  </tbody>\n",
       "</table>\n",
       "</div>"
      ],
      "text/plain": [
       "                                                     name category  \\\n",
       "36671                                         I am Rupert      NaN   \n",
       "41069                                      BlanketPals TM      NaN   \n",
       "63544             {string&&loop} Knitting Craft with Code      NaN   \n",
       "96753                          American Pin-up Revisitedd      NaN   \n",
       "269930  Uplift: The Wearable iPhone Case with Zipline&...      NaN   \n",
       "\n",
       "             main_category      currency deadline                 goal  \\\n",
       "36671            Webseries  Film & Video      GBP  2014-05-16 22:25:57   \n",
       "41069   Interactive Design        Design      USD  2015-03-25 20:51:48   \n",
       "63544              Apparel       Fashion      USD  2016-05-28 00:00:00   \n",
       "96753                  Art           Art      USD  2014-04-03 17:52:09   \n",
       "269930              Design        Design      USD  2011-04-04 20:08:17   \n",
       "\n",
       "       launched              pledged     state     backers country usd pledged  \n",
       "36671      2000  2014-03-27 21:25:57         5      failed       1          GB  \n",
       "41069      9750  2015-02-23 21:51:48  10890.45  successful     107          US  \n",
       "63544      1800  2016-04-29 21:04:40      2308  successful     119          US  \n",
       "96753      7500  2014-03-04 17:52:09       100      failed       1          US  \n",
       "269930    50000  2011-03-05 20:08:17      1665    canceled      10          US  "
      ]
     },
     "execution_count": 14,
     "metadata": {},
     "output_type": "execute_result"
    }
   ],
   "source": [
    "# Visualizando valores missing\n",
    "df.loc[df['category'].isna()]"
   ]
  },
  {
   "cell_type": "code",
   "execution_count": 15,
   "id": "052f81ab-7be9-4ce6-a984-a64153dd7035",
   "metadata": {},
   "outputs": [],
   "source": [
    "# Deletando valores missing\n",
    "df['category'].dropna(inplace=True)"
   ]
  },
  {
   "cell_type": "code",
   "execution_count": 16,
   "id": "94df636d-cd0f-428c-a0b0-45376fd1208c",
   "metadata": {},
   "outputs": [
    {
     "data": {
      "text/plain": [
       "0"
      ]
     },
     "execution_count": 16,
     "metadata": {},
     "output_type": "execute_result"
    }
   ],
   "source": [
    "# Visualizando valores missing\n",
    "df['category'].isna().sum()"
   ]
  },
  {
   "cell_type": "code",
   "execution_count": 17,
   "id": "f9bc2e12-3a41-4d6b-bff6-76761004cc66",
   "metadata": {},
   "outputs": [
    {
     "data": {
      "text/html": [
       "<div>\n",
       "<style scoped>\n",
       "    .dataframe tbody tr th:only-of-type {\n",
       "        vertical-align: middle;\n",
       "    }\n",
       "\n",
       "    .dataframe tbody tr th {\n",
       "        vertical-align: top;\n",
       "    }\n",
       "\n",
       "    .dataframe thead th {\n",
       "        text-align: right;\n",
       "    }\n",
       "</style>\n",
       "<table border=\"1\" class=\"dataframe\">\n",
       "  <thead>\n",
       "    <tr style=\"text-align: right;\">\n",
       "      <th></th>\n",
       "      <th>name</th>\n",
       "      <th>category</th>\n",
       "      <th>main_category</th>\n",
       "      <th>currency</th>\n",
       "      <th>deadline</th>\n",
       "      <th>goal</th>\n",
       "      <th>launched</th>\n",
       "      <th>pledged</th>\n",
       "      <th>state</th>\n",
       "      <th>backers</th>\n",
       "      <th>country</th>\n",
       "      <th>usd pledged</th>\n",
       "    </tr>\n",
       "  </thead>\n",
       "  <tbody>\n",
       "    <tr>\n",
       "      <th>268965</th>\n",
       "      <td>WithoutExcuse New Music Project</td>\n",
       "      <td>Music</td>\n",
       "      <td>Music</td>\n",
       "      <td>USD</td>\n",
       "      <td>2015-02-15 19:29:22</td>\n",
       "      <td>1100</td>\n",
       "      <td>2015-01-26 19:29:22</td>\n",
       "      <td>1110</td>\n",
       "      <td>undefined</td>\n",
       "      <td>0</td>\n",
       "      <td>N,\"0</td>\n",
       "      <td>NaN</td>\n",
       "    </tr>\n",
       "    <tr>\n",
       "      <th>265379</th>\n",
       "      <td>YM The DJ Project</td>\n",
       "      <td>Music</td>\n",
       "      <td>Music</td>\n",
       "      <td>EUR</td>\n",
       "      <td>2015-08-10 19:16:34</td>\n",
       "      <td>2000</td>\n",
       "      <td>2015-07-11 19:16:34</td>\n",
       "      <td>1</td>\n",
       "      <td>undefined</td>\n",
       "      <td>0</td>\n",
       "      <td>N,\"0</td>\n",
       "      <td>NaN</td>\n",
       "    </tr>\n",
       "    <tr>\n",
       "      <th>49273</th>\n",
       "      <td>Passing Ships EP</td>\n",
       "      <td>Music</td>\n",
       "      <td>Music</td>\n",
       "      <td>GBP</td>\n",
       "      <td>2016-05-12 13:57:41</td>\n",
       "      <td>720</td>\n",
       "      <td>2016-04-12 13:57:41</td>\n",
       "      <td>160</td>\n",
       "      <td>failed</td>\n",
       "      <td>0</td>\n",
       "      <td>N,\"0</td>\n",
       "      <td>NaN</td>\n",
       "    </tr>\n",
       "    <tr>\n",
       "      <th>164997</th>\n",
       "      <td>Slava Rodu - Magazine</td>\n",
       "      <td>Publishing</td>\n",
       "      <td>Publishing</td>\n",
       "      <td>USD</td>\n",
       "      <td>2016-03-22 21:21:31</td>\n",
       "      <td>2525</td>\n",
       "      <td>2016-02-01 22:21:31</td>\n",
       "      <td>52</td>\n",
       "      <td>undefined</td>\n",
       "      <td>0</td>\n",
       "      <td>N,\"0</td>\n",
       "      <td>NaN</td>\n",
       "    </tr>\n",
       "    <tr>\n",
       "      <th>299301</th>\n",
       "      <td>TheTruth</td>\n",
       "      <td>Publishing</td>\n",
       "      <td>Publishing</td>\n",
       "      <td>GBP</td>\n",
       "      <td>2015-12-07 18:52:47</td>\n",
       "      <td>1000</td>\n",
       "      <td>2015-11-07 18:52:47</td>\n",
       "      <td>242</td>\n",
       "      <td>undefined</td>\n",
       "      <td>0</td>\n",
       "      <td>N,\"0</td>\n",
       "      <td>NaN</td>\n",
       "    </tr>\n",
       "  </tbody>\n",
       "</table>\n",
       "</div>"
      ],
      "text/plain": [
       "                                   name    category main_category currency  \\\n",
       "268965  WithoutExcuse New Music Project       Music         Music      USD   \n",
       "265379                YM The DJ Project       Music         Music      EUR   \n",
       "49273                  Passing Ships EP       Music         Music      GBP   \n",
       "164997            Slava Rodu - Magazine  Publishing    Publishing      USD   \n",
       "299301                         TheTruth  Publishing    Publishing      GBP   \n",
       "\n",
       "                   deadline  goal             launched pledged      state  \\\n",
       "268965  2015-02-15 19:29:22  1100  2015-01-26 19:29:22    1110  undefined   \n",
       "265379  2015-08-10 19:16:34  2000  2015-07-11 19:16:34       1  undefined   \n",
       "49273   2016-05-12 13:57:41   720  2016-04-12 13:57:41     160     failed   \n",
       "164997  2016-03-22 21:21:31  2525  2016-02-01 22:21:31      52  undefined   \n",
       "299301  2015-12-07 18:52:47  1000  2015-11-07 18:52:47     242  undefined   \n",
       "\n",
       "       backers country usd pledged  \n",
       "268965       0    N,\"0         NaN  \n",
       "265379       0    N,\"0         NaN  \n",
       "49273        0    N,\"0         NaN  \n",
       "164997       0    N,\"0         NaN  \n",
       "299301       0    N,\"0         NaN  "
      ]
     },
     "execution_count": 17,
     "metadata": {},
     "output_type": "execute_result"
    }
   ],
   "source": [
    "# Visualizando valores missing\n",
    "df.loc[df['usd pledged'].isna()].sample(5)"
   ]
  },
  {
   "cell_type": "code",
   "execution_count": 18,
   "id": "14b7f301-0e5b-488c-abb4-e118db62c289",
   "metadata": {},
   "outputs": [],
   "source": [
    "# Preenchendo valores missing com '0'\n",
    "df['usd pledged'].fillna(0, inplace=True)"
   ]
  },
  {
   "cell_type": "code",
   "execution_count": 19,
   "id": "78f02569-2578-4f9a-a476-01cd448e175f",
   "metadata": {},
   "outputs": [
    {
     "data": {
      "text/plain": [
       "0"
      ]
     },
     "execution_count": 19,
     "metadata": {},
     "output_type": "execute_result"
    }
   ],
   "source": [
    "#Visualizando valores missing\n",
    "df['usd pledged'].isna().sum()"
   ]
  },
  {
   "cell_type": "code",
   "execution_count": 20,
   "id": "3dfdb2f8-b547-43f1-959b-abb28be4c802",
   "metadata": {},
   "outputs": [
    {
     "data": {
      "text/plain": [
       "array([' Be active!', ' Religion ', ' clothing company',\n",
       "       ' tango and culture', 'AUD', 'Apparel', 'Art', 'CAD', 'CHF',\n",
       "       'Comics', 'Crafts', 'DKK', 'Dance', 'Design', 'EUR', 'Fashion',\n",
       "       'Film & Video', 'Food', 'GBP', 'Games', 'HKD', 'Journalism', 'MXN',\n",
       "       'Music', 'NOK', 'NZD', 'Nonfiction', 'Painting', 'Photography',\n",
       "       'Publishing', 'Rock', 'SEK', 'SGD', 'Software', 'Technology',\n",
       "       'Theater', 'USD'], dtype=object)"
      ]
     },
     "execution_count": 20,
     "metadata": {},
     "output_type": "execute_result"
    }
   ],
   "source": [
    "# Procurando por Inconsistências \n",
    "df_m = df['currency'].unique()\n",
    "df_m.sort()\n",
    "df_m"
   ]
  },
  {
   "cell_type": "code",
   "execution_count": 21,
   "id": "41be0da1-b2cd-4e5c-b522-21ed10e268c2",
   "metadata": {},
   "outputs": [],
   "source": [
    "# Retirando espaço em branco\n",
    "df['currency'] = df['currency'].str.strip()"
   ]
  },
  {
   "cell_type": "code",
   "execution_count": 22,
   "id": "b47be6e5-1da4-47c7-a866-207632b61fee",
   "metadata": {},
   "outputs": [
    {
     "data": {
      "text/plain": [
       "array(['AUD', 'Apparel', 'Art', 'Be active!', 'CAD', 'CHF', 'Comics',\n",
       "       'Crafts', 'DKK', 'Dance', 'Design', 'EUR', 'Fashion',\n",
       "       'Film & Video', 'Food', 'GBP', 'Games', 'HKD', 'Journalism', 'MXN',\n",
       "       'Music', 'NOK', 'NZD', 'Nonfiction', 'Painting', 'Photography',\n",
       "       'Publishing', 'Religion', 'Rock', 'SEK', 'SGD', 'Software',\n",
       "       'Technology', 'Theater', 'USD', 'clothing company',\n",
       "       'tango and culture'], dtype=object)"
      ]
     },
     "execution_count": 22,
     "metadata": {},
     "output_type": "execute_result"
    }
   ],
   "source": [
    "# Procurando por Inconsistências \n",
    "df_m = df['currency'].unique()\n",
    "df_m.sort()\n",
    "df_m"
   ]
  },
  {
   "cell_type": "code",
   "execution_count": null,
   "id": "25fd81ed-3819-41d5-92f8-1d77a44f1264",
   "metadata": {},
   "outputs": [],
   "source": []
  }
 ],
 "metadata": {
  "kernelspec": {
   "display_name": "Python 3",
   "language": "python",
   "name": "python3"
  },
  "language_info": {
   "codemirror_mode": {
    "name": "ipython",
    "version": 3
   },
   "file_extension": ".py",
   "mimetype": "text/x-python",
   "name": "python",
   "nbconvert_exporter": "python",
   "pygments_lexer": "ipython3",
   "version": "3.8.8"
  }
 },
 "nbformat": 4,
 "nbformat_minor": 5
}

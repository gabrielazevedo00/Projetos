{
 "cells": [
  {
   "cell_type": "code",
   "execution_count": 33,
   "id": "4ae4dec1-2ed7-467b-96c9-a63bd836bcc1",
   "metadata": {},
   "outputs": [],
   "source": [
    "# Importando bibliotecas\n",
    "import pandas as pd\n",
    "import numpy as np\n",
    "\n",
    "import matplotlib.pyplot as plt\n",
    "import matplotlib \n",
    "import seaborn as sns\n"
   ]
  },
  {
   "cell_type": "code",
   "execution_count": 2,
   "id": "bde30703-7939-4d7e-8010-d1db59aacf32",
   "metadata": {},
   "outputs": [
    {
     "data": {
      "text/html": [
       "<div>\n",
       "<style scoped>\n",
       "    .dataframe tbody tr th:only-of-type {\n",
       "        vertical-align: middle;\n",
       "    }\n",
       "\n",
       "    .dataframe tbody tr th {\n",
       "        vertical-align: top;\n",
       "    }\n",
       "\n",
       "    .dataframe thead th {\n",
       "        text-align: right;\n",
       "    }\n",
       "</style>\n",
       "<table border=\"1\" class=\"dataframe\">\n",
       "  <thead>\n",
       "    <tr style=\"text-align: right;\">\n",
       "      <th></th>\n",
       "      <th>gender</th>\n",
       "      <th>race/ethnicity</th>\n",
       "      <th>parental level of education</th>\n",
       "      <th>lunch</th>\n",
       "      <th>test preparation course</th>\n",
       "      <th>math score</th>\n",
       "      <th>reading score</th>\n",
       "      <th>writing score</th>\n",
       "    </tr>\n",
       "  </thead>\n",
       "  <tbody>\n",
       "    <tr>\n",
       "      <th>0</th>\n",
       "      <td>female</td>\n",
       "      <td>group B</td>\n",
       "      <td>bachelor's degree</td>\n",
       "      <td>standard</td>\n",
       "      <td>none</td>\n",
       "      <td>72</td>\n",
       "      <td>72</td>\n",
       "      <td>74</td>\n",
       "    </tr>\n",
       "    <tr>\n",
       "      <th>1</th>\n",
       "      <td>female</td>\n",
       "      <td>group C</td>\n",
       "      <td>some college</td>\n",
       "      <td>standard</td>\n",
       "      <td>completed</td>\n",
       "      <td>69</td>\n",
       "      <td>90</td>\n",
       "      <td>88</td>\n",
       "    </tr>\n",
       "    <tr>\n",
       "      <th>2</th>\n",
       "      <td>female</td>\n",
       "      <td>group B</td>\n",
       "      <td>master's degree</td>\n",
       "      <td>standard</td>\n",
       "      <td>none</td>\n",
       "      <td>90</td>\n",
       "      <td>95</td>\n",
       "      <td>93</td>\n",
       "    </tr>\n",
       "    <tr>\n",
       "      <th>3</th>\n",
       "      <td>male</td>\n",
       "      <td>group A</td>\n",
       "      <td>associate's degree</td>\n",
       "      <td>free/reduced</td>\n",
       "      <td>none</td>\n",
       "      <td>47</td>\n",
       "      <td>57</td>\n",
       "      <td>44</td>\n",
       "    </tr>\n",
       "    <tr>\n",
       "      <th>4</th>\n",
       "      <td>male</td>\n",
       "      <td>group C</td>\n",
       "      <td>some college</td>\n",
       "      <td>standard</td>\n",
       "      <td>none</td>\n",
       "      <td>76</td>\n",
       "      <td>78</td>\n",
       "      <td>75</td>\n",
       "    </tr>\n",
       "    <tr>\n",
       "      <th>5</th>\n",
       "      <td>female</td>\n",
       "      <td>group B</td>\n",
       "      <td>associate's degree</td>\n",
       "      <td>standard</td>\n",
       "      <td>none</td>\n",
       "      <td>71</td>\n",
       "      <td>83</td>\n",
       "      <td>78</td>\n",
       "    </tr>\n",
       "    <tr>\n",
       "      <th>6</th>\n",
       "      <td>female</td>\n",
       "      <td>group B</td>\n",
       "      <td>some college</td>\n",
       "      <td>standard</td>\n",
       "      <td>completed</td>\n",
       "      <td>88</td>\n",
       "      <td>95</td>\n",
       "      <td>92</td>\n",
       "    </tr>\n",
       "    <tr>\n",
       "      <th>7</th>\n",
       "      <td>male</td>\n",
       "      <td>group B</td>\n",
       "      <td>some college</td>\n",
       "      <td>free/reduced</td>\n",
       "      <td>none</td>\n",
       "      <td>40</td>\n",
       "      <td>43</td>\n",
       "      <td>39</td>\n",
       "    </tr>\n",
       "    <tr>\n",
       "      <th>8</th>\n",
       "      <td>male</td>\n",
       "      <td>group D</td>\n",
       "      <td>high school</td>\n",
       "      <td>free/reduced</td>\n",
       "      <td>completed</td>\n",
       "      <td>64</td>\n",
       "      <td>64</td>\n",
       "      <td>67</td>\n",
       "    </tr>\n",
       "    <tr>\n",
       "      <th>9</th>\n",
       "      <td>female</td>\n",
       "      <td>group B</td>\n",
       "      <td>high school</td>\n",
       "      <td>free/reduced</td>\n",
       "      <td>none</td>\n",
       "      <td>38</td>\n",
       "      <td>60</td>\n",
       "      <td>50</td>\n",
       "    </tr>\n",
       "  </tbody>\n",
       "</table>\n",
       "</div>"
      ],
      "text/plain": [
       "   gender race/ethnicity parental level of education         lunch  \\\n",
       "0  female        group B           bachelor's degree      standard   \n",
       "1  female        group C                some college      standard   \n",
       "2  female        group B             master's degree      standard   \n",
       "3    male        group A          associate's degree  free/reduced   \n",
       "4    male        group C                some college      standard   \n",
       "5  female        group B          associate's degree      standard   \n",
       "6  female        group B                some college      standard   \n",
       "7    male        group B                some college  free/reduced   \n",
       "8    male        group D                 high school  free/reduced   \n",
       "9  female        group B                 high school  free/reduced   \n",
       "\n",
       "  test preparation course  math score  reading score  writing score  \n",
       "0                    none          72             72             74  \n",
       "1               completed          69             90             88  \n",
       "2                    none          90             95             93  \n",
       "3                    none          47             57             44  \n",
       "4                    none          76             78             75  \n",
       "5                    none          71             83             78  \n",
       "6               completed          88             95             92  \n",
       "7                    none          40             43             39  \n",
       "8               completed          64             64             67  \n",
       "9                    none          38             60             50  "
      ]
     },
     "execution_count": 2,
     "metadata": {},
     "output_type": "execute_result"
    }
   ],
   "source": [
    "# Abrindo arquivo csv e visualizando as 10 primeiras linhas\n",
    "df = pd.read_csv('StudentsPerformance.csv')\n",
    "\n",
    "df.head(10)"
   ]
  },
  {
   "cell_type": "code",
   "execution_count": 3,
   "id": "0dcf6a02-4c53-4281-a82e-b11b8664d841",
   "metadata": {},
   "outputs": [
    {
     "name": "stdout",
     "output_type": "stream",
     "text": [
      "<class 'pandas.core.frame.DataFrame'>\n",
      "RangeIndex: 1000 entries, 0 to 999\n",
      "Data columns (total 8 columns):\n",
      " #   Column                       Non-Null Count  Dtype \n",
      "---  ------                       --------------  ----- \n",
      " 0   gender                       1000 non-null   object\n",
      " 1   race/ethnicity               1000 non-null   object\n",
      " 2   parental level of education  1000 non-null   object\n",
      " 3   lunch                        1000 non-null   object\n",
      " 4   test preparation course      1000 non-null   object\n",
      " 5   math score                   1000 non-null   int64 \n",
      " 6   reading score                1000 non-null   int64 \n",
      " 7   writing score                1000 non-null   int64 \n",
      "dtypes: int64(3), object(5)\n",
      "memory usage: 62.6+ KB\n"
     ]
    }
   ],
   "source": [
    "# O arquivo contém 1000 linhas e 8 colunas 5 object e 3 int64\n",
    "df.info()"
   ]
  },
  {
   "cell_type": "code",
   "execution_count": 4,
   "id": "798a6810-2fa8-41bf-8b62-85890ec5abd7",
   "metadata": {},
   "outputs": [
    {
     "data": {
      "text/plain": [
       "Index(['gender', 'race/ethnicity', 'parental level of education', 'lunch',\n",
       "       'test preparation course', 'math score', 'reading score',\n",
       "       'writing score'],\n",
       "      dtype='object')"
      ]
     },
     "execution_count": 4,
     "metadata": {},
     "output_type": "execute_result"
    }
   ],
   "source": [
    "# Verificando o nome das colunas\n",
    "df.columns"
   ]
  },
  {
   "cell_type": "code",
   "execution_count": 5,
   "id": "657dd9c6-addd-4c8a-b28d-f73bf6d1efe7",
   "metadata": {},
   "outputs": [
    {
     "data": {
      "text/html": [
       "<div>\n",
       "<style scoped>\n",
       "    .dataframe tbody tr th:only-of-type {\n",
       "        vertical-align: middle;\n",
       "    }\n",
       "\n",
       "    .dataframe tbody tr th {\n",
       "        vertical-align: top;\n",
       "    }\n",
       "\n",
       "    .dataframe thead th {\n",
       "        text-align: right;\n",
       "    }\n",
       "</style>\n",
       "<table border=\"1\" class=\"dataframe\">\n",
       "  <thead>\n",
       "    <tr style=\"text-align: right;\">\n",
       "      <th></th>\n",
       "      <th>genero</th>\n",
       "      <th>raça/etnia</th>\n",
       "      <th>nivel_de_educação_dos_pais</th>\n",
       "      <th>almoço</th>\n",
       "      <th>curso_de_preparaçao_para_teste</th>\n",
       "      <th>pontuaçao_matematica</th>\n",
       "      <th>pontuaçao_de_leitura</th>\n",
       "      <th>pontuaçao_de_escrita</th>\n",
       "    </tr>\n",
       "  </thead>\n",
       "  <tbody>\n",
       "    <tr>\n",
       "      <th>0</th>\n",
       "      <td>female</td>\n",
       "      <td>group B</td>\n",
       "      <td>bachelor's degree</td>\n",
       "      <td>standard</td>\n",
       "      <td>none</td>\n",
       "      <td>72</td>\n",
       "      <td>72</td>\n",
       "      <td>74</td>\n",
       "    </tr>\n",
       "    <tr>\n",
       "      <th>1</th>\n",
       "      <td>female</td>\n",
       "      <td>group C</td>\n",
       "      <td>some college</td>\n",
       "      <td>standard</td>\n",
       "      <td>completed</td>\n",
       "      <td>69</td>\n",
       "      <td>90</td>\n",
       "      <td>88</td>\n",
       "    </tr>\n",
       "    <tr>\n",
       "      <th>2</th>\n",
       "      <td>female</td>\n",
       "      <td>group B</td>\n",
       "      <td>master's degree</td>\n",
       "      <td>standard</td>\n",
       "      <td>none</td>\n",
       "      <td>90</td>\n",
       "      <td>95</td>\n",
       "      <td>93</td>\n",
       "    </tr>\n",
       "    <tr>\n",
       "      <th>3</th>\n",
       "      <td>male</td>\n",
       "      <td>group A</td>\n",
       "      <td>associate's degree</td>\n",
       "      <td>free/reduced</td>\n",
       "      <td>none</td>\n",
       "      <td>47</td>\n",
       "      <td>57</td>\n",
       "      <td>44</td>\n",
       "    </tr>\n",
       "    <tr>\n",
       "      <th>4</th>\n",
       "      <td>male</td>\n",
       "      <td>group C</td>\n",
       "      <td>some college</td>\n",
       "      <td>standard</td>\n",
       "      <td>none</td>\n",
       "      <td>76</td>\n",
       "      <td>78</td>\n",
       "      <td>75</td>\n",
       "    </tr>\n",
       "    <tr>\n",
       "      <th>...</th>\n",
       "      <td>...</td>\n",
       "      <td>...</td>\n",
       "      <td>...</td>\n",
       "      <td>...</td>\n",
       "      <td>...</td>\n",
       "      <td>...</td>\n",
       "      <td>...</td>\n",
       "      <td>...</td>\n",
       "    </tr>\n",
       "    <tr>\n",
       "      <th>995</th>\n",
       "      <td>female</td>\n",
       "      <td>group E</td>\n",
       "      <td>master's degree</td>\n",
       "      <td>standard</td>\n",
       "      <td>completed</td>\n",
       "      <td>88</td>\n",
       "      <td>99</td>\n",
       "      <td>95</td>\n",
       "    </tr>\n",
       "    <tr>\n",
       "      <th>996</th>\n",
       "      <td>male</td>\n",
       "      <td>group C</td>\n",
       "      <td>high school</td>\n",
       "      <td>free/reduced</td>\n",
       "      <td>none</td>\n",
       "      <td>62</td>\n",
       "      <td>55</td>\n",
       "      <td>55</td>\n",
       "    </tr>\n",
       "    <tr>\n",
       "      <th>997</th>\n",
       "      <td>female</td>\n",
       "      <td>group C</td>\n",
       "      <td>high school</td>\n",
       "      <td>free/reduced</td>\n",
       "      <td>completed</td>\n",
       "      <td>59</td>\n",
       "      <td>71</td>\n",
       "      <td>65</td>\n",
       "    </tr>\n",
       "    <tr>\n",
       "      <th>998</th>\n",
       "      <td>female</td>\n",
       "      <td>group D</td>\n",
       "      <td>some college</td>\n",
       "      <td>standard</td>\n",
       "      <td>completed</td>\n",
       "      <td>68</td>\n",
       "      <td>78</td>\n",
       "      <td>77</td>\n",
       "    </tr>\n",
       "    <tr>\n",
       "      <th>999</th>\n",
       "      <td>female</td>\n",
       "      <td>group D</td>\n",
       "      <td>some college</td>\n",
       "      <td>free/reduced</td>\n",
       "      <td>none</td>\n",
       "      <td>77</td>\n",
       "      <td>86</td>\n",
       "      <td>86</td>\n",
       "    </tr>\n",
       "  </tbody>\n",
       "</table>\n",
       "<p>1000 rows × 8 columns</p>\n",
       "</div>"
      ],
      "text/plain": [
       "     genero raça/etnia nivel_de_educação_dos_pais        almoço  \\\n",
       "0    female    group B          bachelor's degree      standard   \n",
       "1    female    group C               some college      standard   \n",
       "2    female    group B            master's degree      standard   \n",
       "3      male    group A         associate's degree  free/reduced   \n",
       "4      male    group C               some college      standard   \n",
       "..      ...        ...                        ...           ...   \n",
       "995  female    group E            master's degree      standard   \n",
       "996    male    group C                high school  free/reduced   \n",
       "997  female    group C                high school  free/reduced   \n",
       "998  female    group D               some college      standard   \n",
       "999  female    group D               some college  free/reduced   \n",
       "\n",
       "    curso_de_preparaçao_para_teste  pontuaçao_matematica  \\\n",
       "0                             none                    72   \n",
       "1                        completed                    69   \n",
       "2                             none                    90   \n",
       "3                             none                    47   \n",
       "4                             none                    76   \n",
       "..                             ...                   ...   \n",
       "995                      completed                    88   \n",
       "996                           none                    62   \n",
       "997                      completed                    59   \n",
       "998                      completed                    68   \n",
       "999                           none                    77   \n",
       "\n",
       "     pontuaçao_de_leitura  pontuaçao_de_escrita  \n",
       "0                      72                    74  \n",
       "1                      90                    88  \n",
       "2                      95                    93  \n",
       "3                      57                    44  \n",
       "4                      78                    75  \n",
       "..                    ...                   ...  \n",
       "995                    99                    95  \n",
       "996                    55                    55  \n",
       "997                    71                    65  \n",
       "998                    78                    77  \n",
       "999                    86                    86  \n",
       "\n",
       "[1000 rows x 8 columns]"
      ]
     },
     "execution_count": 5,
     "metadata": {},
     "output_type": "execute_result"
    }
   ],
   "source": [
    "# Alterando o nome das colunas\n",
    "df = df.rename(columns={'gender':'genero','race/ethnicity':'raça/etnia','parental level of education':'nivel_de_educação_dos_pais','lunch':'almoço','test preparation course':'curso_de_preparaçao_para_teste','math score':'pontuaçao_matematica','reading score':'pontuaçao_de_leitura','writing score':'pontuaçao_de_escrita'})\n",
    "df"
   ]
  },
  {
   "cell_type": "code",
   "execution_count": 6,
   "id": "1705ee62-0ca7-49a5-a49a-9d51710503ea",
   "metadata": {},
   "outputs": [
    {
     "data": {
      "text/html": [
       "<div>\n",
       "<style scoped>\n",
       "    .dataframe tbody tr th:only-of-type {\n",
       "        vertical-align: middle;\n",
       "    }\n",
       "\n",
       "    .dataframe tbody tr th {\n",
       "        vertical-align: top;\n",
       "    }\n",
       "\n",
       "    .dataframe thead th {\n",
       "        text-align: right;\n",
       "    }\n",
       "</style>\n",
       "<table border=\"1\" class=\"dataframe\">\n",
       "  <thead>\n",
       "    <tr style=\"text-align: right;\">\n",
       "      <th></th>\n",
       "      <th>genero</th>\n",
       "      <th>raça/etnia</th>\n",
       "      <th>nivel_de_educação_dos_pais</th>\n",
       "      <th>almoço</th>\n",
       "      <th>curso_de_preparaçao_para_teste</th>\n",
       "      <th>pontuaçao_matematica</th>\n",
       "      <th>pontuaçao_de_leitura</th>\n",
       "      <th>pontuaçao_de_escrita</th>\n",
       "    </tr>\n",
       "  </thead>\n",
       "  <tbody>\n",
       "    <tr>\n",
       "      <th>count</th>\n",
       "      <td>1000</td>\n",
       "      <td>1000</td>\n",
       "      <td>1000</td>\n",
       "      <td>1000</td>\n",
       "      <td>1000</td>\n",
       "      <td>1000.00000</td>\n",
       "      <td>1000.000000</td>\n",
       "      <td>1000.000000</td>\n",
       "    </tr>\n",
       "    <tr>\n",
       "      <th>unique</th>\n",
       "      <td>2</td>\n",
       "      <td>5</td>\n",
       "      <td>6</td>\n",
       "      <td>2</td>\n",
       "      <td>2</td>\n",
       "      <td>NaN</td>\n",
       "      <td>NaN</td>\n",
       "      <td>NaN</td>\n",
       "    </tr>\n",
       "    <tr>\n",
       "      <th>top</th>\n",
       "      <td>female</td>\n",
       "      <td>group C</td>\n",
       "      <td>some college</td>\n",
       "      <td>standard</td>\n",
       "      <td>none</td>\n",
       "      <td>NaN</td>\n",
       "      <td>NaN</td>\n",
       "      <td>NaN</td>\n",
       "    </tr>\n",
       "    <tr>\n",
       "      <th>freq</th>\n",
       "      <td>518</td>\n",
       "      <td>319</td>\n",
       "      <td>226</td>\n",
       "      <td>645</td>\n",
       "      <td>642</td>\n",
       "      <td>NaN</td>\n",
       "      <td>NaN</td>\n",
       "      <td>NaN</td>\n",
       "    </tr>\n",
       "    <tr>\n",
       "      <th>mean</th>\n",
       "      <td>NaN</td>\n",
       "      <td>NaN</td>\n",
       "      <td>NaN</td>\n",
       "      <td>NaN</td>\n",
       "      <td>NaN</td>\n",
       "      <td>66.08900</td>\n",
       "      <td>69.169000</td>\n",
       "      <td>68.054000</td>\n",
       "    </tr>\n",
       "    <tr>\n",
       "      <th>std</th>\n",
       "      <td>NaN</td>\n",
       "      <td>NaN</td>\n",
       "      <td>NaN</td>\n",
       "      <td>NaN</td>\n",
       "      <td>NaN</td>\n",
       "      <td>15.16308</td>\n",
       "      <td>14.600192</td>\n",
       "      <td>15.195657</td>\n",
       "    </tr>\n",
       "    <tr>\n",
       "      <th>min</th>\n",
       "      <td>NaN</td>\n",
       "      <td>NaN</td>\n",
       "      <td>NaN</td>\n",
       "      <td>NaN</td>\n",
       "      <td>NaN</td>\n",
       "      <td>0.00000</td>\n",
       "      <td>17.000000</td>\n",
       "      <td>10.000000</td>\n",
       "    </tr>\n",
       "    <tr>\n",
       "      <th>25%</th>\n",
       "      <td>NaN</td>\n",
       "      <td>NaN</td>\n",
       "      <td>NaN</td>\n",
       "      <td>NaN</td>\n",
       "      <td>NaN</td>\n",
       "      <td>57.00000</td>\n",
       "      <td>59.000000</td>\n",
       "      <td>57.750000</td>\n",
       "    </tr>\n",
       "    <tr>\n",
       "      <th>50%</th>\n",
       "      <td>NaN</td>\n",
       "      <td>NaN</td>\n",
       "      <td>NaN</td>\n",
       "      <td>NaN</td>\n",
       "      <td>NaN</td>\n",
       "      <td>66.00000</td>\n",
       "      <td>70.000000</td>\n",
       "      <td>69.000000</td>\n",
       "    </tr>\n",
       "    <tr>\n",
       "      <th>75%</th>\n",
       "      <td>NaN</td>\n",
       "      <td>NaN</td>\n",
       "      <td>NaN</td>\n",
       "      <td>NaN</td>\n",
       "      <td>NaN</td>\n",
       "      <td>77.00000</td>\n",
       "      <td>79.000000</td>\n",
       "      <td>79.000000</td>\n",
       "    </tr>\n",
       "    <tr>\n",
       "      <th>max</th>\n",
       "      <td>NaN</td>\n",
       "      <td>NaN</td>\n",
       "      <td>NaN</td>\n",
       "      <td>NaN</td>\n",
       "      <td>NaN</td>\n",
       "      <td>100.00000</td>\n",
       "      <td>100.000000</td>\n",
       "      <td>100.000000</td>\n",
       "    </tr>\n",
       "  </tbody>\n",
       "</table>\n",
       "</div>"
      ],
      "text/plain": [
       "        genero raça/etnia nivel_de_educação_dos_pais    almoço  \\\n",
       "count     1000       1000                       1000      1000   \n",
       "unique       2          5                          6         2   \n",
       "top     female    group C               some college  standard   \n",
       "freq       518        319                        226       645   \n",
       "mean       NaN        NaN                        NaN       NaN   \n",
       "std        NaN        NaN                        NaN       NaN   \n",
       "min        NaN        NaN                        NaN       NaN   \n",
       "25%        NaN        NaN                        NaN       NaN   \n",
       "50%        NaN        NaN                        NaN       NaN   \n",
       "75%        NaN        NaN                        NaN       NaN   \n",
       "max        NaN        NaN                        NaN       NaN   \n",
       "\n",
       "       curso_de_preparaçao_para_teste  pontuaçao_matematica  \\\n",
       "count                            1000            1000.00000   \n",
       "unique                              2                   NaN   \n",
       "top                              none                   NaN   \n",
       "freq                              642                   NaN   \n",
       "mean                              NaN              66.08900   \n",
       "std                               NaN              15.16308   \n",
       "min                               NaN               0.00000   \n",
       "25%                               NaN              57.00000   \n",
       "50%                               NaN              66.00000   \n",
       "75%                               NaN              77.00000   \n",
       "max                               NaN             100.00000   \n",
       "\n",
       "        pontuaçao_de_leitura  pontuaçao_de_escrita  \n",
       "count            1000.000000           1000.000000  \n",
       "unique                   NaN                   NaN  \n",
       "top                      NaN                   NaN  \n",
       "freq                     NaN                   NaN  \n",
       "mean               69.169000             68.054000  \n",
       "std                14.600192             15.195657  \n",
       "min                17.000000             10.000000  \n",
       "25%                59.000000             57.750000  \n",
       "50%                70.000000             69.000000  \n",
       "75%                79.000000             79.000000  \n",
       "max               100.000000            100.000000  "
      ]
     },
     "execution_count": 6,
     "metadata": {},
     "output_type": "execute_result"
    }
   ],
   "source": [
    "# Descrição de todas as colunas\n",
    "df.describe(include='all')"
   ]
  },
  {
   "cell_type": "code",
   "execution_count": 7,
   "id": "5191c7df-8dd4-49ec-a18a-850f7e5ff860",
   "metadata": {},
   "outputs": [
    {
     "data": {
      "text/plain": [
       "female    51.8\n",
       "male      48.2\n",
       "Name: genero, dtype: float64"
      ]
     },
     "execution_count": 7,
     "metadata": {},
     "output_type": "execute_result"
    }
   ],
   "source": [
    "# Porcentagem de homens e mulheres\n",
    "df['genero'].value_counts(1)*100"
   ]
  },
  {
   "cell_type": "code",
   "execution_count": 8,
   "id": "25ac9a99-9e6b-4e9e-92df-7edbdc2c9bb8",
   "metadata": {},
   "outputs": [
    {
     "data": {
      "text/plain": [
       "<AxesSubplot:title={'center':'Porcentagem de Homens/Mulheres'}, ylabel='genero'>"
      ]
     },
     "execution_count": 8,
     "metadata": {},
     "output_type": "execute_result"
    },
    {
     "data": {
      "image/png": "[encoded data removed]",
      "text/plain": [
       "<Figure size 432x288 with 1 Axes>"
      ]
     },
     "metadata": {},
     "output_type": "display_data"
    }
   ],
   "source": [
    "# Gráfico de pizza\n",
    "df['genero'].value_counts().plot.pie(title='Porcentagem de Homens/Mulheres',autopct='%1.1f%%')"
   ]
  },
  {
   "cell_type": "code",
   "execution_count": 9,
   "id": "0a76a63e-caa6-48eb-9e27-38e4537d079f",
   "metadata": {},
   "outputs": [
    {
     "data": {
      "text/plain": [
       "genero                            0\n",
       "raça/etnia                        0\n",
       "nivel_de_educação_dos_pais        0\n",
       "almoço                            0\n",
       "curso_de_preparaçao_para_teste    0\n",
       "pontuaçao_matematica              0\n",
       "pontuaçao_de_leitura              0\n",
       "pontuaçao_de_escrita              0\n",
       "dtype: int64"
      ]
     },
     "execution_count": 9,
     "metadata": {},
     "output_type": "execute_result"
    }
   ],
   "source": [
    "# Contagem de valores nulos\n",
    "df.isnull().sum()"
   ]
  },
  {
   "cell_type": "code",
   "execution_count": 10,
   "id": "d4958ea9-9da5-4e77-b14c-21fcc5fd2994",
   "metadata": {},
   "outputs": [
    {
     "data": {
      "text/plain": [
       "pontuaçao_matematica    66.089\n",
       "pontuaçao_de_leitura    69.169\n",
       "pontuaçao_de_escrita    68.054\n",
       "dtype: float64"
      ]
     },
     "execution_count": 10,
     "metadata": {},
     "output_type": "execute_result"
    }
   ],
   "source": [
    "# Média de pontuação de cada matéria\n",
    "df[['pontuaçao_matematica','pontuaçao_de_leitura','pontuaçao_de_escrita']].mean()"
   ]
  },
  {
   "cell_type": "code",
   "execution_count": 11,
   "id": "66fac8f3-d905-43e0-97bf-881b85ee6df8",
   "metadata": {},
   "outputs": [
    {
     "data": {
      "text/plain": [
       "<seaborn.axisgrid.FacetGrid at 0x29d5bef9f10>"
      ]
     },
     "execution_count": 11,
     "metadata": {},
     "output_type": "execute_result"
    },
    {
     "data": {
      "image/png": "[encoded data removed]",
      "text/plain": [
       "<Figure size 360x360 with 1 Axes>"
      ]
     },
     "metadata": {
      "needs_background": "light"
     },
     "output_type": "display_data"
    }
   ],
   "source": [
    "# Distribuição de dados da coluna 'pontuaçao_matematica'\n",
    "sns.displot(df['pontuaçao_matematica'],kde=True)"
   ]
  },
  {
   "cell_type": "code",
   "execution_count": 12,
   "id": "30bdadd1-856b-452a-b326-1eb454ea72d6",
   "metadata": {},
   "outputs": [
    {
     "data": {
      "text/plain": [
       "<seaborn.axisgrid.FacetGrid at 0x29d6119a880>"
      ]
     },
     "execution_count": 12,
     "metadata": {},
     "output_type": "execute_result"
    },
    {
     "data": {
      "image/png": "[encoded data removed]",
      "text/plain": [
       "<Figure size 360x360 with 1 Axes>"
      ]
     },
     "metadata": {
      "needs_background": "light"
     },
     "output_type": "display_data"
    }
   ],
   "source": [
    "# Distribuição de dados da coluna 'pontuaçao_de_leitura'\n",
    "sns.displot(df['pontuaçao_de_leitura'],kde=True)"
   ]
  },
  {
   "cell_type": "code",
   "execution_count": 13,
   "id": "62d343e6-1c0d-47b8-8979-aef1ed4999f0",
   "metadata": {},
   "outputs": [
    {
     "data": {
      "text/plain": [
       "<seaborn.axisgrid.FacetGrid at 0x29d61169520>"
      ]
     },
     "execution_count": 13,
     "metadata": {},
     "output_type": "execute_result"
    },
    {
     "data": {
      "image/png": "[encoded data removed]",
      "text/plain": [
       "<Figure size 360x360 with 1 Axes>"
      ]
     },
     "metadata": {
      "needs_background": "light"
     },
     "output_type": "display_data"
    }
   ],
   "source": [
    "# Distribuição de dados da coluna 'pontuaçao_de_escrita'\n",
    "sns.displot(df['pontuaçao_de_escrita'],kde=True)"
   ]
  },
  {
   "cell_type": "code",
   "execution_count": 14,
   "id": "fa27597e-6df7-42c6-acf3-566c19871117",
   "metadata": {},
   "outputs": [
    {
     "data": {
      "text/plain": [
       "group C    319\n",
       "group D    262\n",
       "group B    190\n",
       "group E    140\n",
       "group A     89\n",
       "Name: raça/etnia, dtype: int64"
      ]
     },
     "execution_count": 14,
     "metadata": {},
     "output_type": "execute_result"
    }
   ],
   "source": [
    "# Contagem de distribuição de Raça/Etnia\n",
    "df['raça/etnia'].value_counts()"
   ]
  },
  {
   "cell_type": "code",
   "execution_count": 15,
   "id": "a4cf8fb5-9843-4db3-b268-03fcfec3b78e",
   "metadata": {},
   "outputs": [
    {
     "data": {
      "text/plain": [
       "(array([0, 1, 2, 3, 4]),\n",
       " [Text(0, 0, 'group C'),\n",
       "  Text(1, 0, 'group D'),\n",
       "  Text(2, 0, 'group B'),\n",
       "  Text(3, 0, 'group E'),\n",
       "  Text(4, 0, 'group A')])"
      ]
     },
     "execution_count": 15,
     "metadata": {},
     "output_type": "execute_result"
    },
    {
     "data": {
      "image/png": "[encoded data removed]",
      "text/plain": [
       "<Figure size 432x288 with 1 Axes>"
      ]
     },
     "metadata": {
      "needs_background": "light"
     },
     "output_type": "display_data"
    }
   ],
   "source": [
    "df['raça/etnia'].value_counts().plot.bar(title='Distribuição de Raça/Etnia')\n",
    "plt.xticks(rotation=0)"
   ]
  },
  {
   "cell_type": "code",
   "execution_count": 27,
   "id": "87e4e36c-b5e6-43c7-ad85-1da551ef14e7",
   "metadata": {},
   "outputs": [
    {
     "data": {
      "image/png": "[encoded data removed]",
      "text/plain": [
       "<Figure size 430.5x360 with 1 Axes>"
      ]
     },
     "metadata": {
      "needs_background": "light"
     },
     "output_type": "display_data"
    }
   ],
   "source": [
    "# Distribuição de Genero por Grupo\n",
    "sns.catplot(x='raça/etnia', hue='genero',data=df,kind='count')\n",
    "plt.title('Distribuição de Genero por Grupo')\n",
    "plt.show()"
   ]
  },
  {
   "cell_type": "code",
   "execution_count": 28,
   "id": "9b24c8a7-4ff5-4ea3-b3a5-2d738c7bb1f5",
   "metadata": {},
   "outputs": [
    {
     "data": {
      "text/plain": [
       "raça/etnia  genero\n",
       "group A     male       53\n",
       "            female     36\n",
       "group B     female    104\n",
       "            male       86\n",
       "group C     female    180\n",
       "            male      139\n",
       "group D     male      133\n",
       "            female    129\n",
       "group E     male       71\n",
       "            female     69\n",
       "Name: genero, dtype: int64"
      ]
     },
     "execution_count": 28,
     "metadata": {},
     "output_type": "execute_result"
    }
   ],
   "source": [
    "# Distribuição de Grupo por Genero\n",
    "df.groupby('raça/etnia')['genero'].value_counts()"
   ]
  },
  {
   "cell_type": "code",
   "execution_count": 31,
   "id": "96dd12c5-4698-45ac-888c-d0404846e161",
   "metadata": {},
   "outputs": [
    {
     "data": {
      "text/plain": [
       "genero  raça/etnia\n",
       "female  group C       180\n",
       "        group D       129\n",
       "        group B       104\n",
       "        group E        69\n",
       "        group A        36\n",
       "male    group C       139\n",
       "        group D       133\n",
       "        group B        86\n",
       "        group E        71\n",
       "        group A        53\n",
       "Name: raça/etnia, dtype: int64"
      ]
     },
     "execution_count": 31,
     "metadata": {},
     "output_type": "execute_result"
    }
   ],
   "source": [
    "# Distribuição de Genero por Grupo\n",
    "df.groupby('genero')['raça/etnia'].value_counts()"
   ]
  },
  {
   "cell_type": "code",
   "execution_count": 42,
   "id": "3ed77232-0786-45e4-83d9-e0e75b1fc420",
   "metadata": {},
   "outputs": [
    {
     "data": {
      "text/html": [
       "<div>\n",
       "<style scoped>\n",
       "    .dataframe tbody tr th:only-of-type {\n",
       "        vertical-align: middle;\n",
       "    }\n",
       "\n",
       "    .dataframe tbody tr th {\n",
       "        vertical-align: top;\n",
       "    }\n",
       "\n",
       "    .dataframe thead th {\n",
       "        text-align: right;\n",
       "    }\n",
       "</style>\n",
       "<table border=\"1\" class=\"dataframe\">\n",
       "  <thead>\n",
       "    <tr style=\"text-align: right;\">\n",
       "      <th></th>\n",
       "      <th></th>\n",
       "      <th>pontuaçao_de_escrita</th>\n",
       "      <th>pontuaçao_de_leitura</th>\n",
       "      <th>pontuaçao_matematica</th>\n",
       "    </tr>\n",
       "    <tr>\n",
       "      <th>genero</th>\n",
       "      <th>raça/etnia</th>\n",
       "      <th></th>\n",
       "      <th></th>\n",
       "      <th></th>\n",
       "    </tr>\n",
       "  </thead>\n",
       "  <tbody>\n",
       "    <tr>\n",
       "      <th rowspan=\"5\" valign=\"top\">female</th>\n",
       "      <th>group A</th>\n",
       "      <td>67.861111</td>\n",
       "      <td>69.000000</td>\n",
       "      <td>58.527778</td>\n",
       "    </tr>\n",
       "    <tr>\n",
       "      <th>group B</th>\n",
       "      <td>70.048077</td>\n",
       "      <td>71.076923</td>\n",
       "      <td>61.403846</td>\n",
       "    </tr>\n",
       "    <tr>\n",
       "      <th>group C</th>\n",
       "      <td>71.777778</td>\n",
       "      <td>71.944444</td>\n",
       "      <td>62.033333</td>\n",
       "    </tr>\n",
       "    <tr>\n",
       "      <th>group D</th>\n",
       "      <td>75.023256</td>\n",
       "      <td>74.046512</td>\n",
       "      <td>65.248062</td>\n",
       "    </tr>\n",
       "    <tr>\n",
       "      <th>group E</th>\n",
       "      <td>75.536232</td>\n",
       "      <td>75.840580</td>\n",
       "      <td>70.811594</td>\n",
       "    </tr>\n",
       "    <tr>\n",
       "      <th rowspan=\"5\" valign=\"top\">male</th>\n",
       "      <th>group A</th>\n",
       "      <td>59.150943</td>\n",
       "      <td>61.735849</td>\n",
       "      <td>63.735849</td>\n",
       "    </tr>\n",
       "    <tr>\n",
       "      <th>group B</th>\n",
       "      <td>60.220930</td>\n",
       "      <td>62.848837</td>\n",
       "      <td>65.930233</td>\n",
       "    </tr>\n",
       "    <tr>\n",
       "      <th>group C</th>\n",
       "      <td>62.712230</td>\n",
       "      <td>65.424460</td>\n",
       "      <td>67.611511</td>\n",
       "    </tr>\n",
       "    <tr>\n",
       "      <th>group D</th>\n",
       "      <td>65.413534</td>\n",
       "      <td>66.135338</td>\n",
       "      <td>69.413534</td>\n",
       "    </tr>\n",
       "    <tr>\n",
       "      <th>group E</th>\n",
       "      <td>67.394366</td>\n",
       "      <td>70.295775</td>\n",
       "      <td>76.746479</td>\n",
       "    </tr>\n",
       "  </tbody>\n",
       "</table>\n",
       "</div>"
      ],
      "text/plain": [
       "                   pontuaçao_de_escrita  pontuaçao_de_leitura  \\\n",
       "genero raça/etnia                                               \n",
       "female group A                67.861111             69.000000   \n",
       "       group B                70.048077             71.076923   \n",
       "       group C                71.777778             71.944444   \n",
       "       group D                75.023256             74.046512   \n",
       "       group E                75.536232             75.840580   \n",
       "male   group A                59.150943             61.735849   \n",
       "       group B                60.220930             62.848837   \n",
       "       group C                62.712230             65.424460   \n",
       "       group D                65.413534             66.135338   \n",
       "       group E                67.394366             70.295775   \n",
       "\n",
       "                   pontuaçao_matematica  \n",
       "genero raça/etnia                        \n",
       "female group A                58.527778  \n",
       "       group B                61.403846  \n",
       "       group C                62.033333  \n",
       "       group D                65.248062  \n",
       "       group E                70.811594  \n",
       "male   group A                63.735849  \n",
       "       group B                65.930233  \n",
       "       group C                67.611511  \n",
       "       group D                69.413534  \n",
       "       group E                76.746479  "
      ]
     },
     "execution_count": 42,
     "metadata": {},
     "output_type": "execute_result"
    }
   ],
   "source": [
    "# Média de pontuação por matéria, separado por genero, raça/etnia\n",
    "pd.pivot_table(df, index=['genero','raça/etnia'], aggfunc= np.mean)"
   ]
  },
  {
   "cell_type": "code",
   "execution_count": 44,
   "id": "79071874-41fd-415f-afb8-0df629bfbb8d",
   "metadata": {},
   "outputs": [
    {
     "data": {
      "text/plain": [
       "some college          226\n",
       "associate's degree    222\n",
       "high school           196\n",
       "some high school      179\n",
       "bachelor's degree     118\n",
       "master's degree        59\n",
       "Name: nivel_de_educação_dos_pais, dtype: int64"
      ]
     },
     "execution_count": 44,
     "metadata": {},
     "output_type": "execute_result"
    }
   ],
   "source": [
    "# Contagem por nivel de educação dos pais\n",
    "df.nivel_de_educação_dos_pais.value_counts()"
   ]
  },
  {
   "cell_type": "code",
   "execution_count": 56,
   "id": "e5febd43-424a-412b-83a3-6416a2444eef",
   "metadata": {},
   "outputs": [
    {
     "data": {
      "text/plain": [
       "<AxesSubplot:>"
      ]
     },
     "execution_count": 56,
     "metadata": {},
     "output_type": "execute_result"
    },
    {
     "data": {
      "image/png": "[encoded data removed]",
      "text/plain": [
       "<Figure size 432x288 with 1 Axes>"
      ]
     },
     "metadata": {
      "needs_background": "light"
     },
     "output_type": "display_data"
    }
   ],
   "source": [
    "# Distribuição por nivel de educação dos pais\n",
    "df.nivel_de_educação_dos_pais.value_counts().plot.barh()"
   ]
  },
  {
   "cell_type": "code",
   "execution_count": 62,
   "id": "a7b7f3d0-1fad-46c9-988f-d27fa47348dc",
   "metadata": {},
   "outputs": [
    {
     "data": {
      "text/plain": [
       "<AxesSubplot:ylabel='nivel_de_educação_dos_pais'>"
      ]
     },
     "execution_count": 62,
     "metadata": {},
     "output_type": "execute_result"
    },
    {
     "data": {
      "image/png": "[encoded data removed]",
      "text/plain": [
       "<Figure size 432x288 with 1 Axes>"
      ]
     },
     "metadata": {},
     "output_type": "display_data"
    }
   ],
   "source": [
    "# Porcentagem por nivel de educação dos pais\n",
    "df.nivel_de_educação_dos_pais.value_counts().plot.pie(autopct='%1.1F%%', explode=[0.1,0.1,0.1,0.1,0.1,0.1])"
   ]
  },
  {
   "cell_type": "code",
   "execution_count": 68,
   "id": "cb810c87-c028-43ca-9167-b7add5f2d67f",
   "metadata": {},
   "outputs": [
    {
     "data": {
      "text/plain": [
       "genero  nivel_de_educação_dos_pais\n",
       "female  some college                  22.779923\n",
       "        associate's degree            22.393822\n",
       "        high school                   18.146718\n",
       "        some high school              17.567568\n",
       "        bachelor's degree             12.162162\n",
       "        master's degree                6.949807\n",
       "male    some college                  22.406639\n",
       "        associate's degree            21.991701\n",
       "        high school                   21.161826\n",
       "        some high school              18.257261\n",
       "        bachelor's degree             11.410788\n",
       "        master's degree                4.771784\n",
       "Name: nivel_de_educação_dos_pais, dtype: float64"
      ]
     },
     "execution_count": 68,
     "metadata": {},
     "output_type": "execute_result"
    }
   ],
   "source": [
    "# Porcentagem de distribuição de nivel de educação dos pais separado por genero\n",
    "df.groupby('genero')['nivel_de_educação_dos_pais'].value_counts(1)*100"
   ]
  },
  {
   "cell_type": "code",
   "execution_count": 73,
   "id": "695d0dc4-366e-4504-b4ec-6771252d3672",
   "metadata": {},
   "outputs": [
    {
     "data": {
      "text/html": [
       "<div>\n",
       "<style scoped>\n",
       "    .dataframe tbody tr th:only-of-type {\n",
       "        vertical-align: middle;\n",
       "    }\n",
       "\n",
       "    .dataframe tbody tr th {\n",
       "        vertical-align: top;\n",
       "    }\n",
       "\n",
       "    .dataframe thead th {\n",
       "        text-align: right;\n",
       "    }\n",
       "</style>\n",
       "<table border=\"1\" class=\"dataframe\">\n",
       "  <thead>\n",
       "    <tr style=\"text-align: right;\">\n",
       "      <th></th>\n",
       "      <th></th>\n",
       "      <th>pontuaçao_de_escrita</th>\n",
       "      <th>pontuaçao_de_leitura</th>\n",
       "      <th>pontuaçao_matematica</th>\n",
       "    </tr>\n",
       "    <tr>\n",
       "      <th>nivel_de_educação_dos_pais</th>\n",
       "      <th>genero</th>\n",
       "      <th></th>\n",
       "      <th></th>\n",
       "      <th></th>\n",
       "    </tr>\n",
       "  </thead>\n",
       "  <tbody>\n",
       "    <tr>\n",
       "      <th rowspan=\"2\" valign=\"top\">associate's degree</th>\n",
       "      <th>female</th>\n",
       "      <td>74.000000</td>\n",
       "      <td>74.120690</td>\n",
       "      <td>65.250000</td>\n",
       "    </tr>\n",
       "    <tr>\n",
       "      <th>male</th>\n",
       "      <td>65.405660</td>\n",
       "      <td>67.433962</td>\n",
       "      <td>70.764151</td>\n",
       "    </tr>\n",
       "    <tr>\n",
       "      <th rowspan=\"2\" valign=\"top\">bachelor's degree</th>\n",
       "      <th>female</th>\n",
       "      <td>78.380952</td>\n",
       "      <td>77.285714</td>\n",
       "      <td>68.349206</td>\n",
       "    </tr>\n",
       "    <tr>\n",
       "      <th>male</th>\n",
       "      <td>67.654545</td>\n",
       "      <td>68.090909</td>\n",
       "      <td>70.581818</td>\n",
       "    </tr>\n",
       "    <tr>\n",
       "      <th rowspan=\"2\" valign=\"top\">high school</th>\n",
       "      <th>female</th>\n",
       "      <td>66.691489</td>\n",
       "      <td>68.202128</td>\n",
       "      <td>59.351064</td>\n",
       "    </tr>\n",
       "    <tr>\n",
       "      <th>male</th>\n",
       "      <td>58.539216</td>\n",
       "      <td>61.480392</td>\n",
       "      <td>64.705882</td>\n",
       "    </tr>\n",
       "    <tr>\n",
       "      <th rowspan=\"2\" valign=\"top\">master's degree</th>\n",
       "      <th>female</th>\n",
       "      <td>77.638889</td>\n",
       "      <td>76.805556</td>\n",
       "      <td>66.500000</td>\n",
       "    </tr>\n",
       "    <tr>\n",
       "      <th>male</th>\n",
       "      <td>72.608696</td>\n",
       "      <td>73.130435</td>\n",
       "      <td>74.826087</td>\n",
       "    </tr>\n",
       "    <tr>\n",
       "      <th rowspan=\"2\" valign=\"top\">some college</th>\n",
       "      <th>female</th>\n",
       "      <td>74.050847</td>\n",
       "      <td>73.550847</td>\n",
       "      <td>65.406780</td>\n",
       "    </tr>\n",
       "    <tr>\n",
       "      <th>male</th>\n",
       "      <td>63.148148</td>\n",
       "      <td>64.990741</td>\n",
       "      <td>69.009259</td>\n",
       "    </tr>\n",
       "    <tr>\n",
       "      <th rowspan=\"2\" valign=\"top\">some high school</th>\n",
       "      <th>female</th>\n",
       "      <td>68.285714</td>\n",
       "      <td>69.109890</td>\n",
       "      <td>59.296703</td>\n",
       "    </tr>\n",
       "    <tr>\n",
       "      <th>male</th>\n",
       "      <td>61.375000</td>\n",
       "      <td>64.693182</td>\n",
       "      <td>67.840909</td>\n",
       "    </tr>\n",
       "  </tbody>\n",
       "</table>\n",
       "</div>"
      ],
      "text/plain": [
       "                                   pontuaçao_de_escrita  pontuaçao_de_leitura  \\\n",
       "nivel_de_educação_dos_pais genero                                               \n",
       "associate's degree         female             74.000000             74.120690   \n",
       "                           male               65.405660             67.433962   \n",
       "bachelor's degree          female             78.380952             77.285714   \n",
       "                           male               67.654545             68.090909   \n",
       "high school                female             66.691489             68.202128   \n",
       "                           male               58.539216             61.480392   \n",
       "master's degree            female             77.638889             76.805556   \n",
       "                           male               72.608696             73.130435   \n",
       "some college               female             74.050847             73.550847   \n",
       "                           male               63.148148             64.990741   \n",
       "some high school           female             68.285714             69.109890   \n",
       "                           male               61.375000             64.693182   \n",
       "\n",
       "                                   pontuaçao_matematica  \n",
       "nivel_de_educação_dos_pais genero                        \n",
       "associate's degree         female             65.250000  \n",
       "                           male               70.764151  \n",
       "bachelor's degree          female             68.349206  \n",
       "                           male               70.581818  \n",
       "high school                female             59.351064  \n",
       "                           male               64.705882  \n",
       "master's degree            female             66.500000  \n",
       "                           male               74.826087  \n",
       "some college               female             65.406780  \n",
       "                           male               69.009259  \n",
       "some high school           female             59.296703  \n",
       "                           male               67.840909  "
      ]
     },
     "execution_count": 73,
     "metadata": {},
     "output_type": "execute_result"
    }
   ],
   "source": [
    "# Média de pontuação por nivel de educação dos pais, separado por genero\n",
    "pd.pivot_table(df, index=['nivel_de_educação_dos_pais','genero'], aggfunc= np.mean)"
   ]
  },
  {
   "cell_type": "code",
   "execution_count": 77,
   "id": "02cb8213-fd83-4415-8bd6-2e14b872fdf6",
   "metadata": {},
   "outputs": [
    {
     "data": {
      "text/plain": [
       "(array([0, 1, 2, 3, 4, 5]),\n",
       " [Text(0, 0, \"bachelor's degree\"),\n",
       "  Text(1, 0, 'some college'),\n",
       "  Text(2, 0, \"master's degree\"),\n",
       "  Text(3, 0, \"associate's degree\"),\n",
       "  Text(4, 0, 'high school'),\n",
       "  Text(5, 0, 'some high school')])"
      ]
     },
     "execution_count": 77,
     "metadata": {},
     "output_type": "execute_result"
    },
    {
     "data": {
      "image/png": "[encoded data removed]",
      "text/plain": [
       "<Figure size 430.5x360 with 1 Axes>"
      ]
     },
     "metadata": {
      "needs_background": "light"
     },
     "output_type": "display_data"
    }
   ],
   "source": [
    "# Distribuição de Genero por Nivel de Educação dos Pais\n",
    "sns.catplot(x='nivel_de_educação_dos_pais',hue='genero',data=df,kind='count')\n",
    "plt.title('Genero por Nivel de Educação dos Pais')\n",
    "plt.xticks(rotation=30)"
   ]
  },
  {
   "cell_type": "code",
   "execution_count": 81,
   "id": "4664df55-c237-43b4-9c87-fe6ba8747144",
   "metadata": {},
   "outputs": [
    {
     "data": {
      "text/plain": [
       "(array([0, 1, 2, 3, 4, 5]),\n",
       " [Text(0, 0, \"bachelor's degree\"),\n",
       "  Text(1, 0, 'some college'),\n",
       "  Text(2, 0, \"master's degree\"),\n",
       "  Text(3, 0, \"associate's degree\"),\n",
       "  Text(4, 0, 'high school'),\n",
       "  Text(5, 0, 'some high school')])"
      ]
     },
     "execution_count": 81,
     "metadata": {},
     "output_type": "execute_result"
    },
    {
     "data": {
      "image/png": "[encoded data removed]",
      "text/plain": [
       "<Figure size 435.75x360 with 1 Axes>"
      ]
     },
     "metadata": {
      "needs_background": "light"
     },
     "output_type": "display_data"
    }
   ],
   "source": [
    "# Distribuição de Raça/Etinia por Nivel de Educação dos Pais\n",
    "sns.catplot(x='nivel_de_educação_dos_pais',hue='raça/etnia',data=df,kind='count')\n",
    "plt.title('Raça/Etnia por Nivel de Educação dos Pais')\n",
    "plt.xticks(rotation=30)"
   ]
  },
  {
   "cell_type": "code",
   "execution_count": 84,
   "id": "7b0ed317-3ecf-47fb-bfe2-b713788126d1",
   "metadata": {},
   "outputs": [
    {
     "data": {
      "text/plain": [
       "<AxesSubplot:ylabel='almoço'>"
      ]
     },
     "execution_count": 84,
     "metadata": {},
     "output_type": "execute_result"
    },
    {
     "data": {
      "image/png": "[encoded data removed]",
      "text/plain": [
       "<Figure size 432x288 with 1 Axes>"
      ]
     },
     "metadata": {},
     "output_type": "display_data"
    }
   ],
   "source": [
    "# Porcentagem por tipo de almoço \n",
    "df.almoço.value_counts().plot.pie(autopct='%1.1f%%')"
   ]
  },
  {
   "cell_type": "code",
   "execution_count": 85,
   "id": "26d35457-6374-446a-a1d8-9eb3cfcbd65e",
   "metadata": {},
   "outputs": [
    {
     "data": {
      "text/plain": [
       "standard        645\n",
       "free/reduced    355\n",
       "Name: almoço, dtype: int64"
      ]
     },
     "execution_count": 85,
     "metadata": {},
     "output_type": "execute_result"
    }
   ],
   "source": [
    "# Contagem\n",
    "df.almoço.value_counts()"
   ]
  },
  {
   "cell_type": "code",
   "execution_count": 95,
   "id": "21a050a8-1d86-4818-bdd0-d0ef85299072",
   "metadata": {},
   "outputs": [
    {
     "data": {
      "text/plain": [
       "(array([0, 1]), [Text(0, 0, 'none'), Text(1, 0, 'completed')])"
      ]
     },
     "execution_count": 95,
     "metadata": {},
     "output_type": "execute_result"
    },
    {
     "data": {
      "image/png": "[encoded data removed]",
      "text/plain": [
       "<Figure size 432x288 with 1 Axes>"
      ]
     },
     "metadata": {
      "needs_background": "light"
     },
     "output_type": "display_data"
    }
   ],
   "source": [
    "# Distribuição por curso de preparação para teste\n",
    "df.curso_de_preparaçao_para_teste.value_counts().plot.bar()\n",
    "plt.xticks(rotation=0)"
   ]
  },
  {
   "cell_type": "code",
   "execution_count": 92,
   "id": "78b6fbbe-6700-4dc0-8894-c462be463484",
   "metadata": {},
   "outputs": [
    {
     "data": {
      "text/plain": [
       "none         642\n",
       "completed    358\n",
       "Name: curso_de_preparaçao_para_teste, dtype: int64"
      ]
     },
     "execution_count": 92,
     "metadata": {},
     "output_type": "execute_result"
    }
   ],
   "source": [
    "# Contagem\n",
    "df.curso_de_preparaçao_para_teste.value_counts()"
   ]
  },
  {
   "cell_type": "code",
   "execution_count": 94,
   "id": "ce43523e-c9b1-4c93-9d90-05a538aa8789",
   "metadata": {},
   "outputs": [
    {
     "data": {
      "text/plain": [
       "none         64.2\n",
       "completed    35.8\n",
       "Name: curso_de_preparaçao_para_teste, dtype: float64"
      ]
     },
     "execution_count": 94,
     "metadata": {},
     "output_type": "execute_result"
    }
   ],
   "source": [
    "# Porcentagem\n",
    "df.curso_de_preparaçao_para_teste.value_counts(1)*100"
   ]
  },
  {
   "cell_type": "code",
   "execution_count": null,
   "id": "1965c6a2-5ace-4738-8bca-deeb7574b245",
   "metadata": {},
   "outputs": [],
   "source": []
  }
 ],
 "metadata": {
  "kernelspec": {
   "display_name": "Python 3",
   "language": "python",
   "name": "python3"
  },
  "language_info": {
   "codemirror_mode": {
    "name": "ipython",
    "version": 3
   },
   "file_extension": ".py",
   "mimetype": "text/x-python",
   "name": "python",
   "nbconvert_exporter": "python",
   "pygments_lexer": "ipython3",
   "version": "3.8.8"
  }
 },
 "nbformat": 4,
 "nbformat_minor": 5
}
